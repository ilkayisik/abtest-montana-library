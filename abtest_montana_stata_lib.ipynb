{
 "cells": [
  {
   "cell_type": "markdown",
   "id": "c01c8135",
   "metadata": {},
   "source": [
    "## A/B Testing Case Study\n",
    "### Improving The UX Experience of th Library of the Montana State University"
   ]
  },
  {
   "cell_type": "markdown",
   "id": "b77c7837",
   "metadata": {},
   "source": [
    "The library webpage has a section called _Interact_ containing  several important links, however, the Website Analytics show that this button gets very few clicks. \n",
    "\n",
    "\n",
    "The UX team wants to conduct and AB test and see if it's possible to improve the experience of the library webpage. \n",
    "They came up with four different alternatives to use instead of Interact:\n",
    "- Connect\n",
    "- Learn\n",
    "- Help\n",
    "- Services"
   ]
  },
  {
   "cell_type": "markdown",
   "id": "764a491e",
   "metadata": {},
   "source": [
    "Potential metrics to track: \n",
    "\n",
    "__Click-through rate (CTR) for the homepage).__ Defined as the amount of clicks on the button divided by the total visits to the page. Selected as a measure of the initial ability of the category title to attract users.\n",
    "\n",
    "__Drop-off rate for the category pages.__ Percentage of visitors who leave the site from a given page, selected as a measure of the ability of the category page to meet user expectations.\n",
    "\n",
    "__Homepage-return rate for the category pages.__ Percentage of users who navigated from the library homepage to the category page, then returned back to the homepage. This sequence of actions provides clues as to whether a user discovered the desired option on the category page; if not, the user would likely then return to the homepage to continue navigation. Homepage-return rate was therefore selected as a measure of the ability of the category page to meet user expectations."
   ]
  },
  {
   "cell_type": "markdown",
   "id": "adfb273f",
   "metadata": {},
   "source": [
    "We will calculate CTR and use the following parameters for our A/B test:\n",
    "- Minimum increase in click-through rate: 30%\n",
    "- Desired Statistical Significance:  90%\n",
    "- The length of the experiment:  21 days\n",
    "\n",
    "Use this power calculator: \n",
    "https://www.abtasty.com/sample-size-calculator/\n",
    "\n"
   ]
  },
  {
   "cell_type": "markdown",
   "id": "8b310023",
   "metadata": {},
   "source": []
  },
  {
   "cell_type": "code",
   "execution_count": 1,
   "id": "81997b39",
   "metadata": {},
   "outputs": [],
   "source": [
    "import numpy as np\n",
    "import pandas as pd\n",
    "from glob import glob\n",
    "from scipy import stats"
   ]
  },
  {
   "cell_type": "markdown",
   "id": "39d96ca1",
   "metadata": {},
   "source": [
    "### Calculate the click-through rate for each version"
   ]
  },
  {
   "cell_type": "code",
   "execution_count": 2,
   "id": "86f98ccc",
   "metadata": {},
   "outputs": [],
   "source": [
    "# function to calculate CTR\n",
    "def ctr(nr_clicks, nr_visits):\n",
    "    ctr = nr_clicks / nr_visits\n",
    "    return ctr"
   ]
  },
  {
   "cell_type": "code",
   "execution_count": 3,
   "id": "ff925e3e",
   "metadata": {},
   "outputs": [
    {
     "name": "stdout",
     "output_type": "stream",
     "text": [
      "version: Learn, nr_clicks: 21, nr_visits: 2747, ctr: 0.0076\n",
      "version: Help, nr_clicks: 38, nr_visits: 3180, ctr: 0.0119\n",
      "version: Services, nr_clicks: 45, nr_visits: 2064, ctr: 0.0218\n",
      "version: Interact, nr_clicks: 42, nr_visits: 10283, ctr: 0.0041\n",
      "version: Connect, nr_clicks: 53, nr_visits: 2742, ctr: 0.0193\n"
     ]
    }
   ],
   "source": [
    "# load the data\n",
    "data_path = glob('/Users/ilkayisik/Desktop/WBS_DS/Chapter04/CrazyEgg/*/*.csv')\n",
    "click, no_click = [], []\n",
    "for f_nr, file in enumerate(data_path):\n",
    "    version_name = file.rsplit('-')[1].rsplit(',')[0].strip()\n",
    "    df = pd.read_csv(file)\n",
    "    nr_clicks = int(df[df['Name'] == version_name.upper()]['No. clicks'])\n",
    "    click.append(nr_clicks)\n",
    "    nr_visits = int(df.iloc[1, 5].rsplit('visits')[0].rsplit(' ')[-2])\n",
    "    no_click.append(nr_visits - nr_clicks)\n",
    "    click_rate = ctr(nr_clicks, nr_visits)\n",
    "    print('version: {}, nr_clicks: {}, nr_visits: {}, ctr: {:.4f}'.format(version_name, nr_clicks,nr_visits, click_rate))"
   ]
  },
  {
   "cell_type": "markdown",
   "id": "5c4ef86d",
   "metadata": {},
   "source": [
    "\n",
    "\n",
    "The hypotheses to be tested in the experiment are the following:\n",
    "\n",
    "__Null Hypothesis:__ all variants have the same CTR.\n",
    "\n",
    "__Alternative Hypothesis:__ there is a difference in the CTR for the different variants.\n",
    "\n",
    "We will apply a chi square test to decide if there is a winner"
   ]
  },
  {
   "cell_type": "code",
   "execution_count": 4,
   "id": "32b8efbe",
   "metadata": {},
   "outputs": [
    {
     "data": {
      "text/html": [
       "<div>\n",
       "<style scoped>\n",
       "    .dataframe tbody tr th:only-of-type {\n",
       "        vertical-align: middle;\n",
       "    }\n",
       "\n",
       "    .dataframe tbody tr th {\n",
       "        vertical-align: top;\n",
       "    }\n",
       "\n",
       "    .dataframe thead th {\n",
       "        text-align: right;\n",
       "    }\n",
       "</style>\n",
       "<table border=\"1\" class=\"dataframe\">\n",
       "  <thead>\n",
       "    <tr style=\"text-align: right;\">\n",
       "      <th></th>\n",
       "      <th>Interact</th>\n",
       "      <th>Connect</th>\n",
       "      <th>Learn</th>\n",
       "      <th>Help</th>\n",
       "      <th>Services</th>\n",
       "    </tr>\n",
       "  </thead>\n",
       "  <tbody>\n",
       "    <tr>\n",
       "      <th>Click</th>\n",
       "      <td>42</td>\n",
       "      <td>53</td>\n",
       "      <td>21</td>\n",
       "      <td>38</td>\n",
       "      <td>45</td>\n",
       "    </tr>\n",
       "    <tr>\n",
       "      <th>No-click</th>\n",
       "      <td>10241</td>\n",
       "      <td>2689</td>\n",
       "      <td>2726</td>\n",
       "      <td>3142</td>\n",
       "      <td>2019</td>\n",
       "    </tr>\n",
       "  </tbody>\n",
       "</table>\n",
       "</div>"
      ],
      "text/plain": [
       "          Interact  Connect  Learn  Help  Services\n",
       "Click           42       53     21    38        45\n",
       "No-click     10241     2689   2726  3142      2019"
      ]
     },
     "execution_count": 4,
     "metadata": {},
     "output_type": "execute_result"
    }
   ],
   "source": [
    "# create a contingency table to use in the chi square test:\n",
    "observed = pd.DataFrame([click, no_click],\n",
    "                         columns = [\"Learn\", \"Help\", \"Services\", \"Interact\", \"Connect\"],\n",
    "                         index = [\"Click\", \"No-click\"])\n",
    "\n",
    "new_col_order = [\"Interact\", \"Connect\", \"Learn\", \"Help\", \"Services\"]\n",
    "observed = observed.reindex(columns=new_col_order)\n",
    "observed"
   ]
  },
  {
   "cell_type": "code",
   "execution_count": 5,
   "id": "d49a68d5",
   "metadata": {},
   "outputs": [
    {
     "name": "stdout",
     "output_type": "stream",
     "text": [
      "chisq 96.7432353798328, pval 4.852334301093838e-20\n"
     ]
    }
   ],
   "source": [
    "# Run the chi square test:\n",
    "chisq, pvalue, df, expected = stats.chi2_contingency(observed)\n",
    "print('chisq {}, pval {}'.format(chisq, pvalue))"
   ]
  },
  {
   "cell_type": "markdown",
   "id": "80895d4c",
   "metadata": {},
   "source": [
    "Our p-value is smaller than our desired significance level and this means we can reject the Null Hypothesis:\n",
    "the clicks indeed depend on the version of the website. \n",
    "\n",
    "However, this result is not conclusive because it does not tell us which version is the winner. "
   ]
  },
  {
   "cell_type": "markdown",
   "id": "33d9530f",
   "metadata": {},
   "source": [
    "Let's kick out the worst performer (_Interact_) and run the test again:"
   ]
  },
  {
   "cell_type": "code",
   "execution_count": 6,
   "id": "97841c39",
   "metadata": {},
   "outputs": [
    {
     "data": {
      "text/html": [
       "<div>\n",
       "<style scoped>\n",
       "    .dataframe tbody tr th:only-of-type {\n",
       "        vertical-align: middle;\n",
       "    }\n",
       "\n",
       "    .dataframe tbody tr th {\n",
       "        vertical-align: top;\n",
       "    }\n",
       "\n",
       "    .dataframe thead th {\n",
       "        text-align: right;\n",
       "    }\n",
       "</style>\n",
       "<table border=\"1\" class=\"dataframe\">\n",
       "  <thead>\n",
       "    <tr style=\"text-align: right;\">\n",
       "      <th></th>\n",
       "      <th>Connect</th>\n",
       "      <th>Learn</th>\n",
       "      <th>Help</th>\n",
       "      <th>Services</th>\n",
       "    </tr>\n",
       "  </thead>\n",
       "  <tbody>\n",
       "    <tr>\n",
       "      <th>Click</th>\n",
       "      <td>53</td>\n",
       "      <td>21</td>\n",
       "      <td>38</td>\n",
       "      <td>45</td>\n",
       "    </tr>\n",
       "    <tr>\n",
       "      <th>No-click</th>\n",
       "      <td>2689</td>\n",
       "      <td>2726</td>\n",
       "      <td>3142</td>\n",
       "      <td>2019</td>\n",
       "    </tr>\n",
       "  </tbody>\n",
       "</table>\n",
       "</div>"
      ],
      "text/plain": [
       "          Connect  Learn  Help  Services\n",
       "Click          53     21    38        45\n",
       "No-click     2689   2726  3142      2019"
      ]
     },
     "execution_count": 6,
     "metadata": {},
     "output_type": "execute_result"
    }
   ],
   "source": [
    "new_col_order = [\"Connect\", \"Learn\", \"Help\", \"Services\"]\n",
    "observed = observed.reindex(columns=new_col_order)\n",
    "observed"
   ]
  },
  {
   "cell_type": "code",
   "execution_count": 7,
   "id": "4d4cb397",
   "metadata": {},
   "outputs": [
    {
     "name": "stdout",
     "output_type": "stream",
     "text": [
      "chisq 22.450979530401828, pval 5.25509870228566e-05\n"
     ]
    }
   ],
   "source": [
    "chisq, pvalue, df, expected = stats.chi2_contingency(observed)\n",
    "print('chisq {}, pval {}'.format(chisq, pvalue))"
   ]
  },
  {
   "cell_type": "markdown",
   "id": "f83dd5f2",
   "metadata": {},
   "source": [
    "Again our _p_ is smaller than our alpha level so we can continue the same procedure and kick out the next worst performer (_Learn_) and run the test again:"
   ]
  },
  {
   "cell_type": "code",
   "execution_count": 8,
   "id": "eef40717",
   "metadata": {},
   "outputs": [
    {
     "data": {
      "text/html": [
       "<div>\n",
       "<style scoped>\n",
       "    .dataframe tbody tr th:only-of-type {\n",
       "        vertical-align: middle;\n",
       "    }\n",
       "\n",
       "    .dataframe tbody tr th {\n",
       "        vertical-align: top;\n",
       "    }\n",
       "\n",
       "    .dataframe thead th {\n",
       "        text-align: right;\n",
       "    }\n",
       "</style>\n",
       "<table border=\"1\" class=\"dataframe\">\n",
       "  <thead>\n",
       "    <tr style=\"text-align: right;\">\n",
       "      <th></th>\n",
       "      <th>Connect</th>\n",
       "      <th>Help</th>\n",
       "      <th>Services</th>\n",
       "    </tr>\n",
       "  </thead>\n",
       "  <tbody>\n",
       "    <tr>\n",
       "      <th>Click</th>\n",
       "      <td>53</td>\n",
       "      <td>38</td>\n",
       "      <td>45</td>\n",
       "    </tr>\n",
       "    <tr>\n",
       "      <th>No-click</th>\n",
       "      <td>2689</td>\n",
       "      <td>3142</td>\n",
       "      <td>2019</td>\n",
       "    </tr>\n",
       "  </tbody>\n",
       "</table>\n",
       "</div>"
      ],
      "text/plain": [
       "          Connect  Help  Services\n",
       "Click          53    38        45\n",
       "No-click     2689  3142      2019"
      ]
     },
     "execution_count": 8,
     "metadata": {},
     "output_type": "execute_result"
    }
   ],
   "source": [
    "new_col_order = [\"Connect\", \"Help\", \"Services\"]\n",
    "observed = observed.reindex(columns=new_col_order)\n",
    "observed"
   ]
  },
  {
   "cell_type": "code",
   "execution_count": 9,
   "id": "4d26d370",
   "metadata": {},
   "outputs": [
    {
     "name": "stdout",
     "output_type": "stream",
     "text": [
      "chisq 8.57683071094785, pval 0.013726659948517513\n"
     ]
    }
   ],
   "source": [
    "chisq, pvalue, df, expected = stats.chi2_contingency(observed)\n",
    "print('chisq {}, pval {}'.format(chisq, pvalue))"
   ]
  },
  {
   "cell_type": "markdown",
   "id": "cfbd063c",
   "metadata": {},
   "source": [
    "Again our _p_ is smaller than our alpha level so we can continue the same procedure and kick out the next worst performer (_Connect_) and run the test again:"
   ]
  },
  {
   "cell_type": "code",
   "execution_count": 10,
   "id": "1d3b44e5",
   "metadata": {},
   "outputs": [
    {
     "data": {
      "text/html": [
       "<div>\n",
       "<style scoped>\n",
       "    .dataframe tbody tr th:only-of-type {\n",
       "        vertical-align: middle;\n",
       "    }\n",
       "\n",
       "    .dataframe tbody tr th {\n",
       "        vertical-align: top;\n",
       "    }\n",
       "\n",
       "    .dataframe thead th {\n",
       "        text-align: right;\n",
       "    }\n",
       "</style>\n",
       "<table border=\"1\" class=\"dataframe\">\n",
       "  <thead>\n",
       "    <tr style=\"text-align: right;\">\n",
       "      <th></th>\n",
       "      <th>Help</th>\n",
       "      <th>Services</th>\n",
       "    </tr>\n",
       "  </thead>\n",
       "  <tbody>\n",
       "    <tr>\n",
       "      <th>Click</th>\n",
       "      <td>38</td>\n",
       "      <td>45</td>\n",
       "    </tr>\n",
       "    <tr>\n",
       "      <th>No-click</th>\n",
       "      <td>3142</td>\n",
       "      <td>2019</td>\n",
       "    </tr>\n",
       "  </tbody>\n",
       "</table>\n",
       "</div>"
      ],
      "text/plain": [
       "          Help  Services\n",
       "Click       38        45\n",
       "No-click  3142      2019"
      ]
     },
     "execution_count": 10,
     "metadata": {},
     "output_type": "execute_result"
    }
   ],
   "source": [
    "new_col_order = [\"Help\", \"Services\"]\n",
    "observed = observed.reindex(columns=new_col_order)\n",
    "observed"
   ]
  },
  {
   "cell_type": "code",
   "execution_count": 11,
   "id": "a9415df1",
   "metadata": {},
   "outputs": [
    {
     "name": "stdout",
     "output_type": "stream",
     "text": [
      "chisq 7.180281909052921, pval 0.007370912499282061\n"
     ]
    }
   ],
   "source": [
    "chisq, pvalue, df, expected = stats.chi2_contingency(observed)\n",
    "print('chisq {}, pval {}'.format(chisq, pvalue))"
   ]
  },
  {
   "cell_type": "markdown",
   "id": "0751b96d",
   "metadata": {},
   "source": [
    "Given that the test is still statistically significant we can declare _Services_ as the winner"
   ]
  },
  {
   "cell_type": "code",
   "execution_count": null,
   "id": "49057336",
   "metadata": {},
   "outputs": [],
   "source": []
  }
 ],
 "metadata": {
  "kernelspec": {
   "display_name": "Python 3 (ipykernel)",
   "language": "python",
   "name": "python3"
  },
  "language_info": {
   "codemirror_mode": {
    "name": "ipython",
    "version": 3
   },
   "file_extension": ".py",
   "mimetype": "text/x-python",
   "name": "python",
   "nbconvert_exporter": "python",
   "pygments_lexer": "ipython3",
   "version": "3.9.13"
  }
 },
 "nbformat": 4,
 "nbformat_minor": 5
}
